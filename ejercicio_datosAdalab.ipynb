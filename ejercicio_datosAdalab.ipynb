{
 "cells": [
  {
   "cell_type": "code",
   "execution_count": 1,
   "id": "941720e2",
   "metadata": {},
   "outputs": [],
   "source": [
    "import requests"
   ]
  },
  {
   "cell_type": "code",
   "execution_count": 2,
   "id": "62bee15f",
   "metadata": {},
   "outputs": [],
   "source": [
    "url_adalab = \"https://beta.adalab.es/curso-intensivo-fullstack-recursos/apis/alumnos-v1/alumnos.json\""
   ]
  },
  {
   "cell_type": "code",
   "execution_count": 3,
   "id": "1ea45d37",
   "metadata": {},
   "outputs": [],
   "source": [
    "res = requests.get(url_adalab)"
   ]
  },
  {
   "cell_type": "code",
   "execution_count": 4,
   "id": "112a8af6",
   "metadata": {},
   "outputs": [
    {
     "data": {
      "text/plain": [
       "200"
      ]
     },
     "execution_count": 4,
     "metadata": {},
     "output_type": "execute_result"
    }
   ],
   "source": [
    "res.status_code"
   ]
  },
  {
   "cell_type": "code",
   "execution_count": 5,
   "id": "30640fa6",
   "metadata": {},
   "outputs": [
    {
     "data": {
      "text/plain": [
       "b'{\\n    \"info\": {\\n        \"count\": 20,\\n        \"pages\": 1,\\n        \"currentPage\": 1,\\n        \"next\": null,\\n        \"prev\": null\\n    },\\n    \"results\": [\\n        {\\n            \"num_expediente\": 1001,\\n            \"nombre\": \"Ana\",\\n            \"apellidos\": \"Mart\\xc3\\xadnez\",\\n            \"fecha_nacimiento\": \"2005-03-15\"\\n        },\\n        {\\n            \"num_expediente\": 1002,\\n            \"nombre\": \"Luis\",\\n            \"apellidos\": \"Fern\\xc3\\xa1ndez\",\\n            \"fecha_nacimiento\": \"2004-11-22\"\\n        },\\n        {\\n            \"num_expediente\": 1003,\\n            \"nombre\": \"Clara\",\\n            \"apellidos\": \"Ruiz\",\\n            \"fecha_nacimiento\": \"2006-01-10\"\\n        },\\n        {\\n            \"num_expediente\": 1004,\\n            \"nombre\": \"Pedro\",\\n            \"apellidos\": \"S\\xc3\\xa1nchez\",\\n            \"fecha_nacimiento\": \"2005-07-08\"\\n        },\\n        {\\n            \"num_expediente\": 1005,\\n            \"nombre\": \"Luc\\xc3\\xada\",\\n            \"apellidos\": \"Torres\",\\n            \"fecha_nacimiento\": \"2004-09-18\"\\n        },\\n        {\\n            \"num_expediente\": 1006,\\n            \"nombre\": \"Javier\",\\n            \"apellidos\": \"Gonz\\xc3\\xa1lez\",\\n            \"fecha_nacimiento\": \"2006-06-24\"\\n        },\\n        {\\n            \"num_expediente\": 1007,\\n            \"nombre\": \"Mar\\xc3\\xada\",\\n            \"apellidos\": \"L\\xc3\\xb3pez\",\\n            \"fecha_nacimiento\": \"2005-04-10\"\\n        },\\n        {\\n            \"num_expediente\": 1008,\\n            \"nombre\": \"David\",\\n            \"apellidos\": \"P\\xc3\\xa9rez\",\\n            \"fecha_nacimiento\": \"2004-12-12\"\\n        },\\n        {\\n            \"num_expediente\": 1009,\\n            \"nombre\": \"Sara\",\\n            \"apellidos\": \"Garc\\xc3\\xada\",\\n            \"fecha_nacimiento\": \"2005-08-15\"\\n        },\\n        {\\n            \"num_expediente\": 1010,\\n            \"nombre\": \"Ricardo\",\\n            \"apellidos\": \"Mart\\xc3\\xadn\",\\n            \"fecha_nacimiento\": \"2006-03-22\"\\n        },\\n        {\\n            \"num_expediente\": 1011,\\n            \"nombre\": \"Alba\",\\n            \"apellidos\": \"V\\xc3\\xa1zquez\",\\n            \"fecha_nacimiento\": \"2004-05-05\"\\n        },\\n        {\\n            \"num_expediente\": 1012,\\n            \"nombre\": \"Carlos\",\\n            \"apellidos\": \"Serrano\",\\n            \"fecha_nacimiento\": \"2005-02-28\"\\n        },\\n        {\\n            \"num_expediente\": 1013,\\n            \"nombre\": \"Elena\",\\n            \"apellidos\": \"Ram\\xc3\\xadrez\",\\n            \"fecha_nacimiento\": \"2006-08-01\"\\n        },\\n        {\\n            \"num_expediente\": 1014,\\n            \"nombre\": \"Iv\\xc3\\xa1n\",\\n            \"apellidos\": \"Hern\\xc3\\xa1ndez\",\\n            \"fecha_nacimiento\": \"2005-10-30\"\\n        },\\n        {\\n            \"num_expediente\": 1015,\\n            \"nombre\": \"Laura\",\\n            \"apellidos\": \"Jim\\xc3\\xa9nez\",\\n            \"fecha_nacimiento\": \"2004-07-14\"\\n        },\\n        {\\n            \"num_expediente\": 1016,\\n            \"nombre\": \"Tom\\xc3\\xa1s\",\\n            \"apellidos\": \"L\\xc3\\xb3pez\",\\n            \"fecha_nacimiento\": \"2005-12-18\"\\n        },\\n        {\\n            \"num_expediente\": 1017,\\n            \"nombre\": \"Paula\",\\n            \"apellidos\": \"Fern\\xc3\\xa1ndez\",\\n            \"fecha_nacimiento\": \"2006-02-06\"\\n        },\\n        {\\n            \"num_expediente\": 1018,\\n            \"nombre\": \"Mario\",\\n            \"apellidos\": \"D\\xc3\\xadaz\",\\n            \"fecha_nacimiento\": \"2004-11-30\"\\n        },\\n        {\\n            \"num_expediente\": 1019,\\n            \"nombre\": \"Raquel\",\\n            \"apellidos\": \"Gonz\\xc3\\xa1lez\",\\n            \"fecha_nacimiento\": \"2005-09-23\"\\n        },\\n        {\\n            \"num_expediente\": 1020,\\n            \"nombre\": \"Jorge\",\\n            \"apellidos\": \"\\xc3\\x81lvarez\",\\n            \"fecha_nacimiento\": \"2006-05-17\"\\n        }\\n    ]\\n}'"
      ]
     },
     "execution_count": 5,
     "metadata": {},
     "output_type": "execute_result"
    }
   ],
   "source": [
    "res.content"
   ]
  },
  {
   "cell_type": "markdown",
   "id": "987cac66",
   "metadata": {},
   "source": [
    "- Extrae de los resultados:\n",
    "    - Número de expediente\n",
    "    - Nombre\n",
    "    - Apellido"
   ]
  },
  {
   "cell_type": "code",
   "execution_count": 6,
   "id": "3a60dd82",
   "metadata": {},
   "outputs": [
    {
     "data": {
      "text/plain": [
       "{'info': {'count': 20,\n",
       "  'pages': 1,\n",
       "  'currentPage': 1,\n",
       "  'next': None,\n",
       "  'prev': None},\n",
       " 'results': [{'num_expediente': 1001,\n",
       "   'nombre': 'Ana',\n",
       "   'apellidos': 'Martínez',\n",
       "   'fecha_nacimiento': '2005-03-15'},\n",
       "  {'num_expediente': 1002,\n",
       "   'nombre': 'Luis',\n",
       "   'apellidos': 'Fernández',\n",
       "   'fecha_nacimiento': '2004-11-22'},\n",
       "  {'num_expediente': 1003,\n",
       "   'nombre': 'Clara',\n",
       "   'apellidos': 'Ruiz',\n",
       "   'fecha_nacimiento': '2006-01-10'},\n",
       "  {'num_expediente': 1004,\n",
       "   'nombre': 'Pedro',\n",
       "   'apellidos': 'Sánchez',\n",
       "   'fecha_nacimiento': '2005-07-08'},\n",
       "  {'num_expediente': 1005,\n",
       "   'nombre': 'Lucía',\n",
       "   'apellidos': 'Torres',\n",
       "   'fecha_nacimiento': '2004-09-18'},\n",
       "  {'num_expediente': 1006,\n",
       "   'nombre': 'Javier',\n",
       "   'apellidos': 'González',\n",
       "   'fecha_nacimiento': '2006-06-24'},\n",
       "  {'num_expediente': 1007,\n",
       "   'nombre': 'María',\n",
       "   'apellidos': 'López',\n",
       "   'fecha_nacimiento': '2005-04-10'},\n",
       "  {'num_expediente': 1008,\n",
       "   'nombre': 'David',\n",
       "   'apellidos': 'Pérez',\n",
       "   'fecha_nacimiento': '2004-12-12'},\n",
       "  {'num_expediente': 1009,\n",
       "   'nombre': 'Sara',\n",
       "   'apellidos': 'García',\n",
       "   'fecha_nacimiento': '2005-08-15'},\n",
       "  {'num_expediente': 1010,\n",
       "   'nombre': 'Ricardo',\n",
       "   'apellidos': 'Martín',\n",
       "   'fecha_nacimiento': '2006-03-22'},\n",
       "  {'num_expediente': 1011,\n",
       "   'nombre': 'Alba',\n",
       "   'apellidos': 'Vázquez',\n",
       "   'fecha_nacimiento': '2004-05-05'},\n",
       "  {'num_expediente': 1012,\n",
       "   'nombre': 'Carlos',\n",
       "   'apellidos': 'Serrano',\n",
       "   'fecha_nacimiento': '2005-02-28'},\n",
       "  {'num_expediente': 1013,\n",
       "   'nombre': 'Elena',\n",
       "   'apellidos': 'Ramírez',\n",
       "   'fecha_nacimiento': '2006-08-01'},\n",
       "  {'num_expediente': 1014,\n",
       "   'nombre': 'Iván',\n",
       "   'apellidos': 'Hernández',\n",
       "   'fecha_nacimiento': '2005-10-30'},\n",
       "  {'num_expediente': 1015,\n",
       "   'nombre': 'Laura',\n",
       "   'apellidos': 'Jiménez',\n",
       "   'fecha_nacimiento': '2004-07-14'},\n",
       "  {'num_expediente': 1016,\n",
       "   'nombre': 'Tomás',\n",
       "   'apellidos': 'López',\n",
       "   'fecha_nacimiento': '2005-12-18'},\n",
       "  {'num_expediente': 1017,\n",
       "   'nombre': 'Paula',\n",
       "   'apellidos': 'Fernández',\n",
       "   'fecha_nacimiento': '2006-02-06'},\n",
       "  {'num_expediente': 1018,\n",
       "   'nombre': 'Mario',\n",
       "   'apellidos': 'Díaz',\n",
       "   'fecha_nacimiento': '2004-11-30'},\n",
       "  {'num_expediente': 1019,\n",
       "   'nombre': 'Raquel',\n",
       "   'apellidos': 'González',\n",
       "   'fecha_nacimiento': '2005-09-23'},\n",
       "  {'num_expediente': 1020,\n",
       "   'nombre': 'Jorge',\n",
       "   'apellidos': 'Álvarez',\n",
       "   'fecha_nacimiento': '2006-05-17'}]}"
      ]
     },
     "execution_count": 6,
     "metadata": {},
     "output_type": "execute_result"
    }
   ],
   "source": [
    "res.json()"
   ]
  },
  {
   "cell_type": "code",
   "execution_count": 12,
   "id": "7195a2d3",
   "metadata": {},
   "outputs": [],
   "source": [
    "datos_adalab = res.json()"
   ]
  },
  {
   "cell_type": "code",
   "execution_count": 13,
   "id": "27fa2e14",
   "metadata": {},
   "outputs": [
    {
     "data": {
      "text/plain": [
       "dict_keys(['info', 'results'])"
      ]
     },
     "execution_count": 13,
     "metadata": {},
     "output_type": "execute_result"
    }
   ],
   "source": [
    "datos_adalab.keys()"
   ]
  },
  {
   "cell_type": "code",
   "execution_count": 14,
   "id": "635e4068",
   "metadata": {},
   "outputs": [
    {
     "data": {
      "text/plain": [
       "{'count': 20, 'pages': 1, 'currentPage': 1, 'next': None, 'prev': None}"
      ]
     },
     "execution_count": 14,
     "metadata": {},
     "output_type": "execute_result"
    }
   ],
   "source": [
    "datos_adalab[\"info\"]"
   ]
  },
  {
   "cell_type": "code",
   "execution_count": 15,
   "id": "47ca555c",
   "metadata": {},
   "outputs": [
    {
     "data": {
      "text/plain": [
       "[{'num_expediente': 1001,\n",
       "  'nombre': 'Ana',\n",
       "  'apellidos': 'Martínez',\n",
       "  'fecha_nacimiento': '2005-03-15'},\n",
       " {'num_expediente': 1002,\n",
       "  'nombre': 'Luis',\n",
       "  'apellidos': 'Fernández',\n",
       "  'fecha_nacimiento': '2004-11-22'},\n",
       " {'num_expediente': 1003,\n",
       "  'nombre': 'Clara',\n",
       "  'apellidos': 'Ruiz',\n",
       "  'fecha_nacimiento': '2006-01-10'},\n",
       " {'num_expediente': 1004,\n",
       "  'nombre': 'Pedro',\n",
       "  'apellidos': 'Sánchez',\n",
       "  'fecha_nacimiento': '2005-07-08'},\n",
       " {'num_expediente': 1005,\n",
       "  'nombre': 'Lucía',\n",
       "  'apellidos': 'Torres',\n",
       "  'fecha_nacimiento': '2004-09-18'},\n",
       " {'num_expediente': 1006,\n",
       "  'nombre': 'Javier',\n",
       "  'apellidos': 'González',\n",
       "  'fecha_nacimiento': '2006-06-24'},\n",
       " {'num_expediente': 1007,\n",
       "  'nombre': 'María',\n",
       "  'apellidos': 'López',\n",
       "  'fecha_nacimiento': '2005-04-10'},\n",
       " {'num_expediente': 1008,\n",
       "  'nombre': 'David',\n",
       "  'apellidos': 'Pérez',\n",
       "  'fecha_nacimiento': '2004-12-12'},\n",
       " {'num_expediente': 1009,\n",
       "  'nombre': 'Sara',\n",
       "  'apellidos': 'García',\n",
       "  'fecha_nacimiento': '2005-08-15'},\n",
       " {'num_expediente': 1010,\n",
       "  'nombre': 'Ricardo',\n",
       "  'apellidos': 'Martín',\n",
       "  'fecha_nacimiento': '2006-03-22'},\n",
       " {'num_expediente': 1011,\n",
       "  'nombre': 'Alba',\n",
       "  'apellidos': 'Vázquez',\n",
       "  'fecha_nacimiento': '2004-05-05'},\n",
       " {'num_expediente': 1012,\n",
       "  'nombre': 'Carlos',\n",
       "  'apellidos': 'Serrano',\n",
       "  'fecha_nacimiento': '2005-02-28'},\n",
       " {'num_expediente': 1013,\n",
       "  'nombre': 'Elena',\n",
       "  'apellidos': 'Ramírez',\n",
       "  'fecha_nacimiento': '2006-08-01'},\n",
       " {'num_expediente': 1014,\n",
       "  'nombre': 'Iván',\n",
       "  'apellidos': 'Hernández',\n",
       "  'fecha_nacimiento': '2005-10-30'},\n",
       " {'num_expediente': 1015,\n",
       "  'nombre': 'Laura',\n",
       "  'apellidos': 'Jiménez',\n",
       "  'fecha_nacimiento': '2004-07-14'},\n",
       " {'num_expediente': 1016,\n",
       "  'nombre': 'Tomás',\n",
       "  'apellidos': 'López',\n",
       "  'fecha_nacimiento': '2005-12-18'},\n",
       " {'num_expediente': 1017,\n",
       "  'nombre': 'Paula',\n",
       "  'apellidos': 'Fernández',\n",
       "  'fecha_nacimiento': '2006-02-06'},\n",
       " {'num_expediente': 1018,\n",
       "  'nombre': 'Mario',\n",
       "  'apellidos': 'Díaz',\n",
       "  'fecha_nacimiento': '2004-11-30'},\n",
       " {'num_expediente': 1019,\n",
       "  'nombre': 'Raquel',\n",
       "  'apellidos': 'González',\n",
       "  'fecha_nacimiento': '2005-09-23'},\n",
       " {'num_expediente': 1020,\n",
       "  'nombre': 'Jorge',\n",
       "  'apellidos': 'Álvarez',\n",
       "  'fecha_nacimiento': '2006-05-17'}]"
      ]
     },
     "execution_count": 15,
     "metadata": {},
     "output_type": "execute_result"
    }
   ],
   "source": [
    "datos_adalab[\"results\"]"
   ]
  },
  {
   "cell_type": "code",
   "execution_count": 16,
   "id": "931210c7",
   "metadata": {},
   "outputs": [
    {
     "name": "stdout",
     "output_type": "stream",
     "text": [
      "{'num_expediente': 1001, 'nombre': 'Ana', 'apellidos': 'Martínez', 'fecha_nacimiento': '2005-03-15'}\n"
     ]
    }
   ],
   "source": [
    "for nombre in datos_adalab[\"results\"]:\n",
    "    print(nombre)\n",
    "    break"
   ]
  },
  {
   "cell_type": "code",
   "execution_count": 19,
   "id": "e87a5f5c",
   "metadata": {},
   "outputs": [
    {
     "name": "stdout",
     "output_type": "stream",
     "text": [
      "{'num_expediente': 1001, 'nombre': 'Ana', 'apellidos': 'Martínez', 'fecha_nacimiento': '2005-03-15'}\n",
      "{'num_expediente': 1002, 'nombre': 'Luis', 'apellidos': 'Fernández', 'fecha_nacimiento': '2004-11-22'}\n",
      "{'num_expediente': 1003, 'nombre': 'Clara', 'apellidos': 'Ruiz', 'fecha_nacimiento': '2006-01-10'}\n",
      "{'num_expediente': 1004, 'nombre': 'Pedro', 'apellidos': 'Sánchez', 'fecha_nacimiento': '2005-07-08'}\n",
      "{'num_expediente': 1005, 'nombre': 'Lucía', 'apellidos': 'Torres', 'fecha_nacimiento': '2004-09-18'}\n",
      "{'num_expediente': 1006, 'nombre': 'Javier', 'apellidos': 'González', 'fecha_nacimiento': '2006-06-24'}\n",
      "{'num_expediente': 1007, 'nombre': 'María', 'apellidos': 'López', 'fecha_nacimiento': '2005-04-10'}\n",
      "{'num_expediente': 1008, 'nombre': 'David', 'apellidos': 'Pérez', 'fecha_nacimiento': '2004-12-12'}\n",
      "{'num_expediente': 1009, 'nombre': 'Sara', 'apellidos': 'García', 'fecha_nacimiento': '2005-08-15'}\n",
      "{'num_expediente': 1010, 'nombre': 'Ricardo', 'apellidos': 'Martín', 'fecha_nacimiento': '2006-03-22'}\n",
      "{'num_expediente': 1011, 'nombre': 'Alba', 'apellidos': 'Vázquez', 'fecha_nacimiento': '2004-05-05'}\n",
      "{'num_expediente': 1012, 'nombre': 'Carlos', 'apellidos': 'Serrano', 'fecha_nacimiento': '2005-02-28'}\n",
      "{'num_expediente': 1013, 'nombre': 'Elena', 'apellidos': 'Ramírez', 'fecha_nacimiento': '2006-08-01'}\n",
      "{'num_expediente': 1014, 'nombre': 'Iván', 'apellidos': 'Hernández', 'fecha_nacimiento': '2005-10-30'}\n",
      "{'num_expediente': 1015, 'nombre': 'Laura', 'apellidos': 'Jiménez', 'fecha_nacimiento': '2004-07-14'}\n",
      "{'num_expediente': 1016, 'nombre': 'Tomás', 'apellidos': 'López', 'fecha_nacimiento': '2005-12-18'}\n",
      "{'num_expediente': 1017, 'nombre': 'Paula', 'apellidos': 'Fernández', 'fecha_nacimiento': '2006-02-06'}\n",
      "{'num_expediente': 1018, 'nombre': 'Mario', 'apellidos': 'Díaz', 'fecha_nacimiento': '2004-11-30'}\n",
      "{'num_expediente': 1019, 'nombre': 'Raquel', 'apellidos': 'González', 'fecha_nacimiento': '2005-09-23'}\n",
      "{'num_expediente': 1020, 'nombre': 'Jorge', 'apellidos': 'Álvarez', 'fecha_nacimiento': '2006-05-17'}\n"
     ]
    }
   ],
   "source": [
    "for nombre in datos_adalab[\"results\"]:\n",
    "    print(nombre)\n"
   ]
  },
  {
   "cell_type": "code",
   "execution_count": 20,
   "id": "186369e9",
   "metadata": {},
   "outputs": [],
   "source": [
    "datos_alumnos = datos_adalab[\"results\"]"
   ]
  },
  {
   "cell_type": "code",
   "execution_count": 21,
   "id": "e268e160",
   "metadata": {},
   "outputs": [
    {
     "data": {
      "text/plain": [
       "[{'num_expediente': 1001,\n",
       "  'nombre': 'Ana',\n",
       "  'apellidos': 'Martínez',\n",
       "  'fecha_nacimiento': '2005-03-15'},\n",
       " {'num_expediente': 1002,\n",
       "  'nombre': 'Luis',\n",
       "  'apellidos': 'Fernández',\n",
       "  'fecha_nacimiento': '2004-11-22'},\n",
       " {'num_expediente': 1003,\n",
       "  'nombre': 'Clara',\n",
       "  'apellidos': 'Ruiz',\n",
       "  'fecha_nacimiento': '2006-01-10'},\n",
       " {'num_expediente': 1004,\n",
       "  'nombre': 'Pedro',\n",
       "  'apellidos': 'Sánchez',\n",
       "  'fecha_nacimiento': '2005-07-08'},\n",
       " {'num_expediente': 1005,\n",
       "  'nombre': 'Lucía',\n",
       "  'apellidos': 'Torres',\n",
       "  'fecha_nacimiento': '2004-09-18'},\n",
       " {'num_expediente': 1006,\n",
       "  'nombre': 'Javier',\n",
       "  'apellidos': 'González',\n",
       "  'fecha_nacimiento': '2006-06-24'},\n",
       " {'num_expediente': 1007,\n",
       "  'nombre': 'María',\n",
       "  'apellidos': 'López',\n",
       "  'fecha_nacimiento': '2005-04-10'},\n",
       " {'num_expediente': 1008,\n",
       "  'nombre': 'David',\n",
       "  'apellidos': 'Pérez',\n",
       "  'fecha_nacimiento': '2004-12-12'},\n",
       " {'num_expediente': 1009,\n",
       "  'nombre': 'Sara',\n",
       "  'apellidos': 'García',\n",
       "  'fecha_nacimiento': '2005-08-15'},\n",
       " {'num_expediente': 1010,\n",
       "  'nombre': 'Ricardo',\n",
       "  'apellidos': 'Martín',\n",
       "  'fecha_nacimiento': '2006-03-22'},\n",
       " {'num_expediente': 1011,\n",
       "  'nombre': 'Alba',\n",
       "  'apellidos': 'Vázquez',\n",
       "  'fecha_nacimiento': '2004-05-05'},\n",
       " {'num_expediente': 1012,\n",
       "  'nombre': 'Carlos',\n",
       "  'apellidos': 'Serrano',\n",
       "  'fecha_nacimiento': '2005-02-28'},\n",
       " {'num_expediente': 1013,\n",
       "  'nombre': 'Elena',\n",
       "  'apellidos': 'Ramírez',\n",
       "  'fecha_nacimiento': '2006-08-01'},\n",
       " {'num_expediente': 1014,\n",
       "  'nombre': 'Iván',\n",
       "  'apellidos': 'Hernández',\n",
       "  'fecha_nacimiento': '2005-10-30'},\n",
       " {'num_expediente': 1015,\n",
       "  'nombre': 'Laura',\n",
       "  'apellidos': 'Jiménez',\n",
       "  'fecha_nacimiento': '2004-07-14'},\n",
       " {'num_expediente': 1016,\n",
       "  'nombre': 'Tomás',\n",
       "  'apellidos': 'López',\n",
       "  'fecha_nacimiento': '2005-12-18'},\n",
       " {'num_expediente': 1017,\n",
       "  'nombre': 'Paula',\n",
       "  'apellidos': 'Fernández',\n",
       "  'fecha_nacimiento': '2006-02-06'},\n",
       " {'num_expediente': 1018,\n",
       "  'nombre': 'Mario',\n",
       "  'apellidos': 'Díaz',\n",
       "  'fecha_nacimiento': '2004-11-30'},\n",
       " {'num_expediente': 1019,\n",
       "  'nombre': 'Raquel',\n",
       "  'apellidos': 'González',\n",
       "  'fecha_nacimiento': '2005-09-23'},\n",
       " {'num_expediente': 1020,\n",
       "  'nombre': 'Jorge',\n",
       "  'apellidos': 'Álvarez',\n",
       "  'fecha_nacimiento': '2006-05-17'}]"
      ]
     },
     "execution_count": 21,
     "metadata": {},
     "output_type": "execute_result"
    }
   ],
   "source": [
    "datos_alumnos"
   ]
  },
  {
   "cell_type": "code",
   "execution_count": 61,
   "id": "b725c101",
   "metadata": {},
   "outputs": [
    {
     "name": "stdout",
     "output_type": "stream",
     "text": [
      "<class 'dict'>\n"
     ]
    }
   ],
   "source": [
    "lista_expedientes = []\n",
    "for expediente in datos_alumnos:\n",
    "    print(type(expediente))\n",
    "    break"
   ]
  },
  {
   "cell_type": "code",
   "execution_count": 58,
   "id": "a032b495",
   "metadata": {},
   "outputs": [
    {
     "name": "stdout",
     "output_type": "stream",
     "text": [
      "1001\n",
      "1002\n",
      "1003\n",
      "1004\n",
      "1005\n",
      "1006\n",
      "1007\n",
      "1008\n",
      "1009\n",
      "1010\n",
      "1011\n",
      "1012\n",
      "1013\n",
      "1014\n",
      "1015\n",
      "1016\n",
      "1017\n",
      "1018\n",
      "1019\n",
      "1020\n"
     ]
    }
   ],
   "source": [
    "lista_expedientes = []\n",
    "for expediente in datos_alumnos:\n",
    "    print(expediente[\"num_expediente\"])\n",
    "    lista_expedientes.append(expediente[\"num_expediente\"])"
   ]
  },
  {
   "cell_type": "code",
   "execution_count": 59,
   "id": "36d623f8",
   "metadata": {},
   "outputs": [
    {
     "data": {
      "text/plain": [
       "[1001,\n",
       " 1002,\n",
       " 1003,\n",
       " 1004,\n",
       " 1005,\n",
       " 1006,\n",
       " 1007,\n",
       " 1008,\n",
       " 1009,\n",
       " 1010,\n",
       " 1011,\n",
       " 1012,\n",
       " 1013,\n",
       " 1014,\n",
       " 1015,\n",
       " 1016,\n",
       " 1017,\n",
       " 1018,\n",
       " 1019,\n",
       " 1020]"
      ]
     },
     "execution_count": 59,
     "metadata": {},
     "output_type": "execute_result"
    }
   ],
   "source": [
    "lista_expedientes"
   ]
  },
  {
   "cell_type": "code",
   "execution_count": null,
   "id": "7b04b3db",
   "metadata": {},
   "outputs": [
    {
     "name": "stdout",
     "output_type": "stream",
     "text": [
      "Ana\n",
      "Luis\n",
      "Clara\n",
      "Pedro\n",
      "Lucía\n",
      "Javier\n",
      "María\n",
      "David\n",
      "Sara\n",
      "Ricardo\n",
      "Alba\n",
      "Carlos\n",
      "Elena\n",
      "Iván\n",
      "Laura\n",
      "Tomás\n",
      "Paula\n",
      "Mario\n",
      "Raquel\n",
      "Jorge\n"
     ]
    }
   ],
   "source": [
    "lista_nombres = []\n",
    "for nombres in datos_alumnos:\n",
    "    print(nombres[\"nombre\"])\n",
    "    lista_nombres.append(nombres[\"nombre\"])"
   ]
  },
  {
   "cell_type": "code",
   "execution_count": 66,
   "id": "f3a63b9f",
   "metadata": {},
   "outputs": [
    {
     "data": {
      "text/plain": [
       "['Ana',\n",
       " 'Luis',\n",
       " 'Clara',\n",
       " 'Pedro',\n",
       " 'Lucía',\n",
       " 'Javier',\n",
       " 'María',\n",
       " 'David',\n",
       " 'Sara',\n",
       " 'Ricardo',\n",
       " 'Alba',\n",
       " 'Carlos',\n",
       " 'Elena',\n",
       " 'Iván',\n",
       " 'Laura',\n",
       " 'Tomás',\n",
       " 'Paula',\n",
       " 'Mario',\n",
       " 'Raquel',\n",
       " 'Jorge']"
      ]
     },
     "execution_count": 66,
     "metadata": {},
     "output_type": "execute_result"
    }
   ],
   "source": [
    "lista_nombres"
   ]
  },
  {
   "cell_type": "code",
   "execution_count": 69,
   "id": "f91d6c18",
   "metadata": {},
   "outputs": [
    {
     "name": "stdout",
     "output_type": "stream",
     "text": [
      "Martínez\n",
      "Fernández\n",
      "Ruiz\n",
      "Sánchez\n",
      "Torres\n",
      "González\n",
      "López\n",
      "Pérez\n",
      "García\n",
      "Martín\n",
      "Vázquez\n",
      "Serrano\n",
      "Ramírez\n",
      "Hernández\n",
      "Jiménez\n",
      "López\n",
      "Fernández\n",
      "Díaz\n",
      "González\n",
      "Álvarez\n"
     ]
    }
   ],
   "source": [
    "lista_apellidos = []\n",
    "for apellidos in datos_alumnos:\n",
    "    print(apellidos[\"apellidos\"])\n",
    "    lista_apellidos.append(apellidos[\"apellidos\"])"
   ]
  }
 ],
 "metadata": {
  "kernelspec": {
   "display_name": "Python 3",
   "language": "python",
   "name": "python3"
  },
  "language_info": {
   "codemirror_mode": {
    "name": "ipython",
    "version": 3
   },
   "file_extension": ".py",
   "mimetype": "text/x-python",
   "name": "python",
   "nbconvert_exporter": "python",
   "pygments_lexer": "ipython3",
   "version": "3.13.7"
  }
 },
 "nbformat": 4,
 "nbformat_minor": 5
}
